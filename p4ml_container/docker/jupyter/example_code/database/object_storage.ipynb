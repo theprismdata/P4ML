{
 "cells": [
  {
   "cell_type": "code",
   "execution_count": 2,
   "id": "96013b15-e4a4-47fe-951d-281be75baffa",
   "metadata": {},
   "outputs": [],
   "source": [
    "from minio import Minio\n",
    "from minio.error import S3Error"
   ]
  },
  {
   "cell_type": "code",
   "execution_count": 3,
   "id": "55e769a5-48f4-4cde-a01f-9181dcd53f73",
   "metadata": {},
   "outputs": [],
   "source": [
    "minio_url = 'p4ml-minio:9000'\n",
    "minio_access = ''\n",
    "minio_secret = ''\n",
    "minioClient = Minio(minio_url,   # ip:port  or URL\n",
    "                access_key=minio_access,\n",
    "                secret_key=minio_secret,\n",
    "                secure=False)"
   ]
  },
  {
   "cell_type": "code",
   "execution_count": 4,
   "id": "61d941f3-69c4-4e19-9c03-f6715a51a22f",
   "metadata": {},
   "outputs": [],
   "source": [
    "try:\n",
    "       minioClient.fput_object('paas4ml-storage', 'container-iris.csv', './dataset/1.iris.csv')\n",
    "except ResponseError as err:\n",
    "       print(err)"
   ]
  },
  {
   "cell_type": "code",
   "execution_count": null,
   "id": "fd4220c7-6e0f-4a21-8cf0-d538029f9e83",
   "metadata": {},
   "outputs": [],
   "source": []
  }
 ],
 "metadata": {
  "kernelspec": {
   "display_name": "Python 3 (ipykernel)",
   "language": "python",
   "name": "python3"
  },
  "language_info": {
   "codemirror_mode": {
    "name": "ipython",
    "version": 3
   },
   "file_extension": ".py",
   "mimetype": "text/x-python",
   "name": "python",
   "nbconvert_exporter": "python",
   "pygments_lexer": "ipython3",
   "version": "3.8.17"
  }
 },
 "nbformat": 4,
 "nbformat_minor": 5
}
