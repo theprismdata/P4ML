{
 "cells": [
  {
   "cell_type": "code",
   "execution_count": 6,
   "id": "0c4743b1",
   "metadata": {},
   "outputs": [],
   "source": [
    "import psycopg2"
   ]
  },
  {
   "cell_type": "code",
   "execution_count": 9,
   "id": "8e64d91f",
   "metadata": {},
   "outputs": [],
   "source": [
    "conn = psycopg2.connect(host='p4ml-postgres', dbname='postgresdb',user='postgresadmin',password='paas4ml',port=5432)\n",
    "cursor=conn.cursor()"
   ]
  },
  {
   "cell_type": "code",
   "execution_count": null,
   "id": "1d71860b",
   "metadata": {},
   "outputs": [],
   "source": []
  },
  {
   "cell_type": "code",
   "execution_count": 20,
   "id": "af5af351",
   "metadata": {},
   "outputs": [],
   "source": [
    "cursor.execute(\"DROP TABLE IF EXISTS EMPLOYEE\")"
   ]
  },
  {
   "cell_type": "code",
   "execution_count": 21,
   "id": "375427e2",
   "metadata": {},
   "outputs": [],
   "source": [
    "sql ='''CREATE TABLE EMPLOYEE(\n",
    "   FIRST_NAME CHAR(20) NOT NULL,\n",
    "   LAST_NAME CHAR(20),\n",
    "   AGE INT,\n",
    "   SEX CHAR(1),\n",
    "   INCOME FLOAT\n",
    ")'''\n",
    "cursor.execute(sql)\n",
    "conn.commit()"
   ]
  },
  {
   "cell_type": "code",
   "execution_count": null,
   "id": "8a3269eb",
   "metadata": {},
   "outputs": [],
   "source": []
  },
  {
   "cell_type": "code",
   "execution_count": null,
   "id": "2cefd731",
   "metadata": {},
   "outputs": [],
   "source": []
  },
  {
   "cell_type": "code",
   "execution_count": 3,
   "id": "13706a27",
   "metadata": {},
   "outputs": [],
   "source": [
    "conn = psycopg2.connect(host='p4ml-postgres', dbname='postgresdb',user='postgresadmin',password='paas4ml',port=5432)\n",
    "cursor=conn.cursor()"
   ]
  },
  {
   "cell_type": "code",
   "execution_count": 4,
   "id": "d4a171d0",
   "metadata": {},
   "outputs": [],
   "source": [
    "'''\n",
    "INSERT INTO public.employee\n",
    "(first_name, last_name, age, sex, income)\n",
    "VALUES('', '', 0, '', 0);\n",
    "'''\n",
    "schema = 'public'\n",
    "table = 'employee'\n",
    "colum = '(FIRST_NAME, LAST_NAME, AGE, SEX, INCOME)'\n",
    "data = ('shin', 'hongjoong', 43, 'M', 20000,)\n",
    "sql = \"INSERT INTO {schema}.{table} {colum} VALUES {data} ;\".format(schema=schema,table=table,colum=colum,data=data)\n",
    "try:\n",
    "    cursor.execute(sql)\n",
    "    conn.commit()\n",
    "except Exception as e :\n",
    "    print(\" insert DB  \",e) "
   ]
  },
  {
   "cell_type": "code",
   "execution_count": null,
   "id": "a18ba2ad",
   "metadata": {},
   "outputs": [],
   "source": []
  },
  {
   "cell_type": "code",
   "execution_count": 6,
   "id": "f93f7724",
   "metadata": {},
   "outputs": [
    {
     "name": "stdout",
     "output_type": "stream",
     "text": [
      "('shin                ', 'hongjoong           ', 43, 'M', 20000.0)\n"
     ]
    }
   ],
   "source": [
    "conn = psycopg2.connect(host='p4ml-postgres', dbname='postgresdb',user='postgresadmin',password='paas4ml',port=5432)\n",
    "cursor=conn.cursor()\n",
    "cursor.execute(\"SELECT * FROM employee;\")\n",
    "print(cursor.fetchone())"
   ]
  },
  {
   "cell_type": "code",
   "execution_count": null,
   "id": "63a9b1d3",
   "metadata": {},
   "outputs": [],
   "source": []
  }
 ],
 "metadata": {
  "kernelspec": {
   "display_name": "Python 3 (ipykernel)",
   "language": "python",
   "name": "python3"
  },
  "language_info": {
   "codemirror_mode": {
    "name": "ipython",
    "version": 3
   },
   "file_extension": ".py",
   "mimetype": "text/x-python",
   "name": "python",
   "nbconvert_exporter": "python",
   "pygments_lexer": "ipython3",
   "version": "3.8.9"
  }
 },
 "nbformat": 4,
 "nbformat_minor": 5
}
