{
 "cells": [
  {
   "cell_type": "code",
   "execution_count": 19,
   "id": "650c4428",
   "metadata": {},
   "outputs": [],
   "source": [
    "from kubernetes import client, config\n",
    "import os"
   ]
  },
  {
   "cell_type": "code",
   "execution_count": 20,
   "id": "3547da29",
   "metadata": {},
   "outputs": [],
   "source": [
    "kubeconfig = os.getenv('KUBECONFIG')\n",
    "config.load_kube_config(kubeconfig)\n",
    "v1 = client.CoreV1Api()"
   ]
  },
  {
   "cell_type": "code",
   "execution_count": null,
   "id": "5fcfd159",
   "metadata": {},
   "outputs": [],
   "source": []
  },
  {
   "cell_type": "code",
   "execution_count": 30,
   "id": "db516e36",
   "metadata": {},
   "outputs": [],
   "source": [
    "def get_list_pod_for_all_namespaces(handler):\n",
    "    ret = v1.list_pod_for_all_namespaces(watch=False)\n",
    "    pods_list =ret.items\n",
    "    res_list = []\n",
    "    for pod in pods_list:\n",
    "        pod = pod.to_dict()\n",
    "        ns = pod['metadata']['namespace']\n",
    "        if 'app' in pod['metadata']['labels'].keys():\n",
    "            name = pod['metadata']['labels']['app']\n",
    "        res_list.append({'ns':ns, 'name':name})\n",
    "    return res_list"
   ]
  },
  {
   "cell_type": "code",
   "execution_count": 31,
   "id": "da4821c4",
   "metadata": {},
   "outputs": [],
   "source": [
    "res_list = get_list_pod_for_all_namespaces(v1)"
   ]
  },
  {
   "cell_type": "code",
   "execution_count": 32,
   "id": "5af43a8e",
   "metadata": {
    "scrolled": false
   },
   "outputs": [
    {
     "data": {
      "text/plain": [
       "[{'ns': 'default', 'name': 'grafana'},\n",
       " {'ns': 'default', 'name': 'influxdb'},\n",
       " {'ns': 'default', 'name': 'mongodb'},\n",
       " {'ns': 'default', 'name': 'p4mljupyter'},\n",
       " {'ns': 'default', 'name': 'p4mlminio'},\n",
       " {'ns': 'default', 'name': 'postgres'},\n",
       " {'ns': 'kube-flannel', 'name': 'flannel'},\n",
       " {'ns': 'kube-flannel', 'name': 'flannel'},\n",
       " {'ns': 'kube-flannel', 'name': 'flannel'},\n",
       " {'ns': 'kube-system', 'name': 'flannel'},\n",
       " {'ns': 'kube-system', 'name': 'flannel'},\n",
       " {'ns': 'kube-system', 'name': 'flannel'},\n",
       " {'ns': 'kube-system', 'name': 'flannel'},\n",
       " {'ns': 'kube-system', 'name': 'flannel'},\n",
       " {'ns': 'kube-system', 'name': 'flannel'},\n",
       " {'ns': 'kube-system', 'name': 'flannel'},\n",
       " {'ns': 'kube-system', 'name': 'flannel'},\n",
       " {'ns': 'kube-system', 'name': 'flannel'},\n",
       " {'ns': 'metallb-system', 'name': 'metallb'},\n",
       " {'ns': 'metallb-system', 'name': 'metallb'},\n",
       " {'ns': 'metallb-system', 'name': 'metallb'},\n",
       " {'ns': 'metallb-system', 'name': 'metallb'}]"
      ]
     },
     "execution_count": 32,
     "metadata": {},
     "output_type": "execute_result"
    }
   ],
   "source": [
    "res_list"
   ]
  },
  {
   "cell_type": "code",
   "execution_count": null,
   "id": "5f9bfb0a",
   "metadata": {},
   "outputs": [],
   "source": []
  },
  {
   "cell_type": "code",
   "execution_count": null,
   "id": "1eeaa3c6",
   "metadata": {},
   "outputs": [],
   "source": []
  }
 ],
 "metadata": {
  "kernelspec": {
   "display_name": "Python 3",
   "language": "python",
   "name": "python3"
  },
  "language_info": {
   "codemirror_mode": {
    "name": "ipython",
    "version": 3
   },
   "file_extension": ".py",
   "mimetype": "text/x-python",
   "name": "python",
   "nbconvert_exporter": "python",
   "pygments_lexer": "ipython3",
   "version": "3.6.8"
  }
 },
 "nbformat": 4,
 "nbformat_minor": 5
}
