{
 "cells": [
  {
   "cell_type": "code",
   "execution_count": 2,
   "id": "650c4428",
   "metadata": {},
   "outputs": [],
   "source": [
    "from kubernetes import client, config\n",
    "import os"
   ]
  },
  {
   "cell_type": "code",
   "execution_count": 3,
   "id": "3547da29",
   "metadata": {},
   "outputs": [
    {
     "name": "stdout",
     "output_type": "stream",
     "text": [
      "Listing pods with their IPs:\n"
     ]
    }
   ],
   "source": [
    "kubeconfig = os.getenv('KUBECONFIG')\n",
    "config.load_kube_config(kubeconfig)\n",
    "v1 = client.CoreV1Api()\n",
    "print(\"Listing pods with their IPs:\")\n",
    "ret = v1.list_pod_for_all_namespaces(watch=False)"
   ]
  },
  {
   "cell_type": "code",
   "execution_count": 5,
   "id": "5af43a8e",
   "metadata": {},
   "outputs": [],
   "source": [
    "pods_list =ret.items"
   ]
  },
  {
   "cell_type": "code",
   "execution_count": 6,
   "id": "6be1ef9c",
   "metadata": {},
   "outputs": [],
   "source": [
    "pod = pods_list[0]\n",
    "pod = pod.to_dict()"
   ]
  },
  {
   "cell_type": "code",
   "execution_count": 7,
   "id": "fac19c59",
   "metadata": {},
   "outputs": [
    {
     "data": {
      "text/plain": [
       "'p4ml-grafana-7ccd5db9fc-48rrt'"
      ]
     },
     "execution_count": 7,
     "metadata": {},
     "output_type": "execute_result"
    }
   ],
   "source": [
    "pod['metadata']['name']"
   ]
  },
  {
   "cell_type": "code",
   "execution_count": 8,
   "id": "41e9d0e3",
   "metadata": {},
   "outputs": [
    {
     "data": {
      "text/plain": [
       "'p4ml-grafana'"
      ]
     },
     "execution_count": 8,
     "metadata": {},
     "output_type": "execute_result"
    }
   ],
   "source": [
    "pod['metadata']['labels']['app']"
   ]
  },
  {
   "cell_type": "code",
   "execution_count": null,
   "id": "11ace994",
   "metadata": {},
   "outputs": [],
   "source": []
  }
 ],
 "metadata": {
  "kernelspec": {
   "display_name": "Python 3",
   "language": "python",
   "name": "python3"
  },
  "language_info": {
   "codemirror_mode": {
    "name": "ipython",
    "version": 3
   },
   "file_extension": ".py",
   "mimetype": "text/x-python",
   "name": "python",
   "nbconvert_exporter": "python",
   "pygments_lexer": "ipython3",
   "version": "3.6.8"
  }
 },
 "nbformat": 4,
 "nbformat_minor": 5
}
