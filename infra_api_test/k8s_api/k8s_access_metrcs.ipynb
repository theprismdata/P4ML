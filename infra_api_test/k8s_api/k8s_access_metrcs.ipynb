{
 "cells": [
  {
   "cell_type": "code",
   "execution_count": 18,
   "id": "650c4428",
   "metadata": {},
   "outputs": [],
   "source": [
    "from kubernetes import client, config\n",
    "import json\n",
    "import os\n",
    "from influxdb import InfluxDBClient"
   ]
  },
  {
   "cell_type": "code",
   "execution_count": null,
   "id": "687fcc78-d4f4-468e-bbaa-eb6d6949daed",
   "metadata": {},
   "outputs": [],
   "source": [
    "\"\"\"\n",
    "Grafana\n",
    "http://192.168.1.120:3000/\n",
    "id : admin\n",
    "pwd : paas4ml\n",
    "\"\"\""
   ]
  },
  {
   "cell_type": "code",
   "execution_count": 19,
   "id": "97f33cbc-6688-4859-9a54-32398025998e",
   "metadata": {},
   "outputs": [],
   "source": [
    "try:\n",
    "    host = '192.168.1.120'\n",
    "    port = '8086'\n",
    "    name = 'paas4ml'\n",
    "    pwd = 'paas4ml'\n",
    "    db = 'k8s-metric'\n",
    "    influxdb_mgr = InfluxDBClient(host=host, port=port, username=name, password=pwd, database=db)\n",
    "except Exception as exp:\n",
    "    print(str(exp))"
   ]
  },
  {
   "cell_type": "code",
   "execution_count": 20,
   "id": "ea763836-31aa-4545-a6eb-34d9c1430c19",
   "metadata": {},
   "outputs": [],
   "source": [
    "config.load_kube_config()\n",
    "api = client.CustomObjectsApi()"
   ]
  },
  {
   "cell_type": "code",
   "execution_count": 38,
   "id": "4ddeff11-33a4-4c0c-8381-403158a36bae",
   "metadata": {},
   "outputs": [
    {
     "name": "stdout",
     "output_type": "stream",
     "text": [
      "influx write success:[{'measurement': 'k8s-cluster-resource-master1', 'fields': {'cpu': 136230638, 'memory': 1799820}}]\n",
      "influx write success:[{'measurement': 'k8s-cluster-resource-worker1', 'fields': {'cpu': 26071171, 'memory': 560700}}]\n",
      "influx write success:[{'measurement': 'k8s-cluster-resource-worker2', 'fields': {'cpu': 38866556, 'memory': 1710740}}]\n",
      "influx write success:[{'measurement': 'k8s-cluster-resource-worker3', 'fields': {'cpu': 55593116, 'memory': 1090400}}]\n"
     ]
    }
   ],
   "source": [
    "k8s_nodes = api.list_cluster_custom_object(\"metrics.k8s.io\", \"v1beta1\", \"nodes\")\n",
    "fields = {'cpu':'', 'memory':''}\n",
    "for stats in k8s_nodes['items']:\n",
    "    table_name = 'k8s-cluster-resource-%s' %(stats['metadata']['name'])\n",
    "    fields['cpu'] = int(stats['usage']['cpu'][:-1])\n",
    "    fields['memory'] = int(stats['usage']['memory'][:-2])\n",
    "    influx_json = [{\n",
    "                    'measurement': table_name,\n",
    "                    'fields': fields\n",
    "                }]\n",
    "    try:\n",
    "        if influxdb_mgr.write_points(influx_json) is True:\n",
    "            print('influx write success:' + str(influx_json))\n",
    "        else:\n",
    "            print('influx write faile:' + str(influx_json))\n",
    "    except Exception as exp:\n",
    "        print(str(exp)) "
   ]
  },
  {
   "cell_type": "code",
   "execution_count": null,
   "id": "0890a669-9397-4189-8455-a9c43fae5b43",
   "metadata": {},
   "outputs": [],
   "source": []
  },
  {
   "cell_type": "code",
   "execution_count": null,
   "id": "99571cbc-60b6-4549-b1ea-1863d2dac007",
   "metadata": {},
   "outputs": [],
   "source": []
  },
  {
   "cell_type": "code",
   "execution_count": 2,
   "id": "3547da29",
   "metadata": {},
   "outputs": [],
   "source": [
    "kubeconfig = os.getenv('KUBECONFIG')\n",
    "config.load_kube_config(kubeconfig)\n",
    "v1 = client.CoreV1Api()"
   ]
  },
  {
   "cell_type": "code",
   "execution_count": 3,
   "id": "5fcfd159",
   "metadata": {},
   "outputs": [],
   "source": [
    "api_client = client.ApiClient()"
   ]
  },
  {
   "cell_type": "code",
   "execution_count": 4,
   "id": "5f9bfb0a",
   "metadata": {},
   "outputs": [],
   "source": [
    "ret_metrics = api_client.call_api('/apis/metrics.k8s.io/v1beta1/namespaces/default/pods', 'GET', auth_settings = ['BearerToken'], response_type='json', _preload_content=False) "
   ]
  },
  {
   "cell_type": "code",
   "execution_count": 5,
   "id": "1aa10f0c",
   "metadata": {},
   "outputs": [],
   "source": [
    "response = ret_metrics[0].data.decode('utf-8')"
   ]
  },
  {
   "cell_type": "code",
   "execution_count": 42,
   "id": "1eeaa3c6",
   "metadata": {},
   "outputs": [
    {
     "data": {
      "text/plain": [
       "{'kind': 'PodMetricsList',\n",
       " 'apiVersion': 'metrics.k8s.io/v1beta1',\n",
       " 'metadata': {},\n",
       " 'items': [{'metadata': {'name': 'p4ml-grafana-7ccd5db9fc-48rrt',\n",
       "    'namespace': 'default',\n",
       "    'creationTimestamp': '2023-08-21T12:21:25Z',\n",
       "    'labels': {'app': 'p4ml-grafana', 'pod-template-hash': '7ccd5db9fc'}},\n",
       "   'timestamp': '2023-08-21T12:21:02Z',\n",
       "   'window': '16.989s',\n",
       "   'containers': [{'name': 'p4ml-grafana',\n",
       "     'usage': {'cpu': '492664n', 'memory': '29432Ki'}}]},\n",
       "  {'metadata': {'name': 'p4ml-influxdb-5fbbf46b5c-clnbh',\n",
       "    'namespace': 'default',\n",
       "    'creationTimestamp': '2023-08-21T12:21:25Z',\n",
       "    'labels': {'app': 'p4ml-influxdb', 'pod-template-hash': '5fbbf46b5c'}},\n",
       "   'timestamp': '2023-08-21T12:21:14Z',\n",
       "   'window': '28.651s',\n",
       "   'containers': [{'name': 'p4ml-influxdb',\n",
       "     'usage': {'cpu': '751779n', 'memory': '88808Ki'}}]},\n",
       "  {'metadata': {'name': 'p4ml-jupyter-7ff768476-ffwh7',\n",
       "    'namespace': 'default',\n",
       "    'creationTimestamp': '2023-08-21T12:21:25Z',\n",
       "    'labels': {'app': 'p4ml-jupyter', 'pod-template-hash': '7ff768476'}},\n",
       "   'timestamp': '2023-08-21T12:21:00Z',\n",
       "   'window': '12.04s',\n",
       "   'containers': [{'name': 'p4ml-jupyter',\n",
       "     'usage': {'cpu': '633664n', 'memory': '944556Ki'}}]},\n",
       "  {'metadata': {'name': 'p4ml-minio-5bb744d964-t5h8n',\n",
       "    'namespace': 'default',\n",
       "    'creationTimestamp': '2023-08-21T12:21:25Z',\n",
       "    'labels': {'app': 'p4ml-minio', 'pod-template-hash': '5bb744d964'}},\n",
       "   'timestamp': '2023-08-21T12:21:03Z',\n",
       "   'window': '18.187s',\n",
       "   'containers': [{'name': 'p4ml-minio',\n",
       "     'usage': {'cpu': '348468n', 'memory': '105232Ki'}}]},\n",
       "  {'metadata': {'name': 'p4ml-mongodb-ff8c4674d-tlkkb',\n",
       "    'namespace': 'default',\n",
       "    'creationTimestamp': '2023-08-21T12:21:25Z',\n",
       "    'labels': {'app': 'p4ml-mongodb', 'pod-template-hash': 'ff8c4674d'}},\n",
       "   'timestamp': '2023-08-21T12:21:03Z',\n",
       "   'window': '17.62s',\n",
       "   'containers': [{'name': 'p4ml-mongodb',\n",
       "     'usage': {'cpu': '4091747n', 'memory': '186580Ki'}}]},\n",
       "  {'metadata': {'name': 'p4ml-postgres-54bbbfb4b4-m8xq7',\n",
       "    'namespace': 'default',\n",
       "    'creationTimestamp': '2023-08-21T12:21:25Z',\n",
       "    'labels': {'app': 'p4ml-postgres', 'pod-template-hash': '54bbbfb4b4'}},\n",
       "   'timestamp': '2023-08-21T12:21:10Z',\n",
       "   'window': '12.183s',\n",
       "   'containers': [{'name': 'p4ml-postgres',\n",
       "     'usage': {'cpu': '40125n', 'memory': '29664Ki'}}]}]}"
      ]
     },
     "metadata": {},
     "output_type": "display_data"
    }
   ],
   "source": [
    "metric_info = json.loads(response)\n",
    "display(metric_info)"
   ]
  },
  {
   "cell_type": "code",
   "execution_count": 53,
   "id": "10a19ffb",
   "metadata": {},
   "outputs": [
    {
     "name": "stdout",
     "output_type": "stream",
     "text": [
      "influx write success:[{'measurement': 'k8s-pod-resource-p4ml-grafana', 'fields': {'cpu': 492664, 'memory': 29432}}]\n",
      "influx write success:[{'measurement': 'k8s-pod-resource-p4ml-influxdb', 'fields': {'cpu': 751779, 'memory': 88808}}]\n",
      "influx write success:[{'measurement': 'k8s-pod-resource-p4ml-jupyter', 'fields': {'cpu': 633664, 'memory': 944556}}]\n",
      "influx write success:[{'measurement': 'k8s-pod-resource-p4ml-minio', 'fields': {'cpu': 348468, 'memory': 105232}}]\n",
      "influx write success:[{'measurement': 'k8s-pod-resource-p4ml-mongodb', 'fields': {'cpu': 4091747, 'memory': 186580}}]\n",
      "influx write success:[{'measurement': 'k8s-pod-resource-p4ml-postgres', 'fields': {'cpu': 40125, 'memory': 29664}}]\n"
     ]
    }
   ],
   "source": [
    "\n",
    "for idx, pod_id in enumerate(metric_info['items']):\n",
    "    name = metric_info['items'][idx]['containers'][0]['name']\n",
    "    cpu_n = int(metric_info['items'][idx]['containers'][0]['usage']['cpu'][:-1])\n",
    "    memory_n = int(metric_info['items'][idx]['containers'][0]['usage']['memory'][:-2])\n",
    "    # print(name, cpu_n, memory_n)\n",
    "    fields = {'cpu':'', 'memory':''}\n",
    "    fields['cpu'] = cpu_n\n",
    "    fields['memory'] = memory_n\n",
    "    table_name = 'k8s-pod-resource-%s' %(name)\n",
    "    influx_json = [{\n",
    "                    'measurement': table_name,\n",
    "                    'fields': fields\n",
    "                }]\n",
    "    try:\n",
    "        if influxdb_mgr.write_points(influx_json) is True:\n",
    "            print('influx write success:' + str(influx_json))\n",
    "        else:\n",
    "            print('influx write faile:' + str(influx_json))\n",
    "    except Exception as exp:\n",
    "        print(str(exp)) "
   ]
  }
 ],
 "metadata": {
  "kernelspec": {
   "display_name": "Python 3",
   "language": "python",
   "name": "python3"
  },
  "language_info": {
   "codemirror_mode": {
    "name": "ipython",
    "version": 3
   },
   "file_extension": ".py",
   "mimetype": "text/x-python",
   "name": "python",
   "nbconvert_exporter": "python",
   "pygments_lexer": "ipython3",
   "version": "3.6.8"
  }
 },
 "nbformat": 4,
 "nbformat_minor": 5
}
